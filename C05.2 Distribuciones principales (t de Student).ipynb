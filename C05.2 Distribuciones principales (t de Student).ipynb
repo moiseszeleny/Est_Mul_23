{
 "cells": [
  {
   "cell_type": "markdown",
   "metadata": {},
   "source": [
    "<img src=\"logo.png\">"
   ]
  },
  {
   "cell_type": "code",
   "execution_count": null,
   "metadata": {},
   "outputs": [],
   "source": [
    "library(tidyverse)\n",
    "library(MASS)"
   ]
  },
  {
   "cell_type": "markdown",
   "metadata": {},
   "source": [
    "# Distribuciones principales: t de Student\n",
    "\n",
    "La distribución **t de Student multivariante** es una generalización de la t de Student en una dimensión. \n",
    "\n",
    "Para definir la t de Student univariante, recordemos brevemente que si $Z_1,Z_2,...,Z_m\\sim N(0,1)$ son variables aleatorias independientes, entonces la variable $V$ dada por \n",
    "\n",
    "$$V=Z_1^2+Z_2^2+...+Z_m^2$$\n",
    "\n",
    "es una **Chi cuadrada con $m$ grados de libertad**, lo cual se denota por $V\\sim\\chi^2_m$.\n",
    "\n",
    "\n",
    "Así, $T$ es una t de Student univariente (lo cual se denota por $T\\sim t_m$) si existen dos variables aleatorias indepencientes $Z\\sim N(0,1)$ y $V\\sim\\chi^2_m$ tales que \n",
    "\n",
    "$$T=Z/\\sqrt{V/m}$$.\n",
    "\n",
    "Al número $m$ se le llama *grados de libertad*.\n",
    "\n",
    "El gráfico de una t de Student es siempre simétrico y con forma de campana. Además tiene media 0 y varianza $\\frac{m}{m-2}$. Por lo tanto su varianza tiende a 1 a medida que $m$ aumenta y así se parece cada vez más a una normal estándar. "
   ]
  },
  {
   "cell_type": "code",
   "execution_count": null,
   "metadata": {},
   "outputs": [],
   "source": [
    "# p: grados de libertad\n",
    "m=3\n",
    "\n",
    "mi_data_norm = data.frame(\"abscisas\" = seq(-10,10,0.025)) %>% mutate(ordenadas = dnorm(abscisas,mean=0,sd=1),tipo=\"Z\")\n",
    "mi_data_t = data.frame(\"abscisas\" = seq(-10,10,0.025)) %>% mutate(ordenadas = dt(abscisas,df=m),tipo=\"t(m)\")\n",
    "\n",
    "rbind(mi_data_norm,mi_data_t) %>%\n",
    "    ggplot() +\n",
    "    geom_line(mapping=aes(x=abscisas,y=ordenadas,color=tipo))"
   ]
  },
  {
   "cell_type": "markdown",
   "metadata": {},
   "source": [
    "Por su parte, un vector aleatorio $\\boldsymbol{T}$ es una **t de Student multivariante de $p$ dimensiones y $m$ grados de libertad** si existen variables aleatorias independientes $\\boldsymbol{Z}\\sim N_p(\\boldsymbol{0},\\Sigma)$ y $X\\sim\\chi^2_m$ tales que \n",
    "\n",
    "$$\\boldsymbol{T}=Z\\sqrt{\\frac{m}{X}}$$\n",
    "\n",
    "Este hecho es denotado por $\\boldsymbol{T}\\sim t_m$, y a $m$ se le llama *grados de libertad*."
   ]
  },
  {
   "cell_type": "code",
   "execution_count": null,
   "metadata": {},
   "outputs": [],
   "source": [
    "# m: grados de libertad\n",
    "m=20\n",
    "\n",
    "Z = mvrnorm(100000, mu = c(0, 5), Sigma = matrix(c(1, 1, 1, 1), 2))\n",
    "X = rchisq(100000,df=m)\n",
    "\n",
    "mi_data = data.frame(Z*sqrt(m/X))\n",
    "colnames(mi_data) = c(\"abscisas\",\"ordenadas\")\n",
    "\n",
    "m <- ggplot(data=mi_data) +\n",
    "      stat_density_2d(mapping=aes(x=abscisas,\n",
    "                                  y=ordenadas,\n",
    "                                  fill=..level..),\n",
    "                      geom=\"polygon\",\n",
    "                      show.legend = FALSE) +\n",
    "      ylim(2,8) +\n",
    "      theme(panel.background = element_rect(\"white\"),\n",
    "            panel.grid = element_line(color=\"darkgrey\",size=0.1))\n",
    "  \n",
    "m  "
   ]
  }
 ],
 "metadata": {
  "kernelspec": {
   "display_name": "R",
   "language": "R",
   "name": "ir"
  },
  "language_info": {
   "codemirror_mode": "r",
   "file_extension": ".r",
   "mimetype": "text/x-r-source",
   "name": "R",
   "pygments_lexer": "r",
   "version": "3.6.1"
  }
 },
 "nbformat": 4,
 "nbformat_minor": 4
}
