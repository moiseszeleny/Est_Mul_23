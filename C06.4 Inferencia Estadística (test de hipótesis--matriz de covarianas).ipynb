{
 "cells": [
  {
   "cell_type": "markdown",
   "metadata": {},
   "source": [
    "<img src=\"logo.png\">"
   ]
  },
  {
   "cell_type": "markdown",
   "metadata": {},
   "source": [
    "# Contrastes de matriz de covarianzas\n",
    "\n",
    "El contraste de razón de verosimilitudes también se aplica para contrastes de matrices de covarianzas, de forma similar a cuando lo hicimos para contraste de medias.\n",
    "\n",
    "Vamos a ver tres contrastes en este caso:\n",
    "\n",
    "1. En el primero se contrasta que la matriz tome un valor específico.\n",
    "2. En el segundo, que la matriz es diagonal y las variables están incorreladas (contraste de independencia).\n",
    "3. En el tercero, que las variables además tienen la misma varianza (contraste de esfericidad)."
   ]
  },
  {
   "cell_type": "markdown",
   "metadata": {},
   "source": [
    "## Contraste de un valor específico\n",
    "\n",
    "Supongamos que tenemos una muestra de una Normal multivariante $N_p(\\vec{\\mu},\\Sigma)$. Se desea hacer el constraste \n",
    "\n",
    "$$\\left\\{\\begin{array}{c}H_0:\\Sigma=\\Sigma_0\\\\H_1:\\Sigma\\neq\\Sigma_0\\end{array}\\right.$$\n",
    "\n",
    "No asumiremos nada sobre $\\vec{\\mu}$. \n",
    "\n",
    "Usando la expresión de $L(\\vec{\\mu},\\Sigma)$ de [C06.2](https://github.com/scidatmath2020/Python-y-R-en-Estadistica-Multivariante/blob/main/Mod2.%20Probabilidad%20en%20varias%20variables/C06.2%20Inferencia%20Estad%C3%ADstica%20(M%C3%A1xima%20verosimilitud).ipynb), tenemos $$L(H_1)=-\\frac{n}{2}\\log|S|-\\frac{np}{2}\\,\\,y\\,\\,L(H_0)=-\\frac{n}{2}\\log|S|-\\frac{n}{2}tr(\\Sigma_0^{-1}S)$$\n",
    "\n",
    "Por lo tanto $\\lambda=n\\log\\left(\\frac{|\\Sigma_0|}{|S|}\\right)+n\\,tr(\\Sigma_0^{-1}S)-np$. La distribución de $\\lambda$ es una chi cuadrada con $\\frac{p(p+1)}{2}$ grados de libertad.\n",
    "\n",
    "**Observación.** Si queremos contrastar con la matriz identidad $\\Sigma_0=I$, tenemos $\\lambda=-n\\log|S|+n\\,tr(S)-np$"
   ]
  },
  {
   "cell_type": "markdown",
   "metadata": {},
   "source": [
    "## Contraste de independencia\n",
    "\n",
    "Otro contraste de interés es el de independencia, donde suponemos que la matriz $\\Sigma_0$ es diagonal. Supongamos que tenemos una muestra de una Normal multivariante $N_p(\\vec{\\mu},\\Sigma)$. Se desea hacer el constraste \n",
    "\n",
    "$$\\left\\{\\begin{array}{c}H_0:\\Sigma=\\Sigma_0\\,(diagonal)\\\\H_1:\\Sigma\\neq\\Sigma_0\\,(diagonal)\\end{array}\\right.$$\n",
    "\n",
    "No asumiremos nada sobre $\\vec{\\mu}$. En este caso, la estimación máximo verosímil de $\\Sigma_0$ es $\\widehat{\\Sigma_0}=diag(S)$, que es la matriz diagonal cuyas entradas de la diagonal son las mismas que la de la matriz de covarianza muestral.\n",
    "\n",
    "Así, $\\lambda=-n\\log|R|$ donde $R=\\widehat{\\Sigma_0}^{-1/2}S\\widehat{\\Sigma_0}^{-1/2}$. Su distribución, para $n$ grande, es una chi cuadrada con $\\frac{p(p-1)}{2}$ grados de libertado."
   ]
  },
  {
   "cell_type": "markdown",
   "metadata": {},
   "source": [
    "## Contraste de esfericidad\n",
    "\n",
    "Un caso particular importante del contraste anterior es suponer que todas las variables tienen la misma varianza y están incorreladas. En este caso no ganamos nada por analizarlas conjuntamente, ya que no hay información común. Este contraste equivale a suponer que la matriz $\\Sigma_0$ es escalar; es decir $\\Sigma_0=\\sigma^2I$ para algún número $\\sigma^2$. \n",
    "\n",
    "Se desea hacer el constraste \n",
    "\n",
    "$$\\left\\{\\begin{array}{c}H_0:\\Sigma=\\sigma^2I\\\\H_1:\\Sigma\\neq\\sigma^2I\\end{array}\\right.$$\n",
    "\n",
    "En este caso, el estimador de máxima verosimilitud para $\\sigma^2$ es $\\widehat{\\sigma}^2=\\frac{tr(S)}{p}$ y obtenemos $\\lambda=np(\\log(\\widehat{\\sigma}^2)-\\log|S|)$, que tiene una distribución, para $n$ grande, de chi cuadrada con $\\frac{(p+2)(p-1)}{2}$ grados de libertad.\n",
    "\n"
   ]
  },
  {
   "cell_type": "markdown",
   "metadata": {},
   "source": [
    "**Observacion.** En R, el cálculo de los elemntos de la diagonal de una matriz cuadrada $A$ y su traza es hace con las siguientes instrucciones:\n",
    "\n",
    "elementos de la diagonal: ``diag(A)``\n",
    "\n",
    "traza: ``sum(diag(A))``\n"
   ]
  }
 ],
 "metadata": {
  "kernelspec": {
   "display_name": "R",
   "language": "R",
   "name": "ir"
  },
  "language_info": {
   "codemirror_mode": "r",
   "file_extension": ".r",
   "mimetype": "text/x-r-source",
   "name": "R",
   "pygments_lexer": "r",
   "version": "3.6.1"
  }
 },
 "nbformat": 4,
 "nbformat_minor": 4
}
