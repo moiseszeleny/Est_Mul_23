{
 "cells": [
  {
   "cell_type": "markdown",
   "metadata": {},
   "source": [
    "<img src=\"logo.png\">"
   ]
  },
  {
   "cell_type": "markdown",
   "metadata": {},
   "source": [
    "# Estimadores de máxima verosimilitud\n",
    "\n",
    "Si suponemos que conocemos la distribución de nuestra variable aleatoria multivariante $X$ entonces, el objetivo principal de la inferencia estadística es estimar los parámetros que sean desconocidos de esta distribución.\n",
    "\n",
    "Sea $\\Theta = (\\Theta_1,\\Theta_2,...,\\Theta_r)$ el vector de parámetros de una distribución determinada con función de densidad $f_X(\\cdot;\\Theta)$. El objetivo es estimar el valor verdadero de $\\Theta$ a partir de una muestra.\n",
    "\n",
    "El método mas usual para hacer esto es el de **estimador de máxima verosimilitud** (MLE).\n",
    "\n",
    "Dada una muestra $x_1,x_2,...,x_n$ (recordemos que aquí, los elementos de la muestra son las observaciones de cada una de las características del vector aleatorio $X$), se define la **función de máxima verosimilitud** de $\\Theta$ como \n",
    "\n",
    "$$l(\\theta)=f_X(x_1;\\theta)f_X(x_2;\\theta)...f_X(x_n;\\theta).$$\n",
    "\n",
    "El estimador de máxima verosimilitud del parámetro verdadero $\\Theta$ es el vector $\\widehat{\\theta}$ si $l(\\widehat{\\theta})$ es un valor máximo de la función $l$. Esto significa que $\\widehat{\\theta}$ es el valor que maximiza la probabilidad de obtener la muestra que obtuvimos.\n",
    "\n",
    "**Observación.** A veces trabajar con la función $l$ para tratar de maximizarla es complicado. Muchas veces, en lugar de la función de máxima verosimilitud, se ocupa la **función log de máxima verosimilitud** que se define como \n",
    "\n",
    "$$L(\\theta)=\\log(l(\\theta)).$$ \n",
    "\n",
    "El valor que maximiza a $L$ es igual al valor que maximiza a $l$ y viceversa, de modo que el estimador de máxima verosimilitud $\\widehat{\\theta}$ no se ve alterado."
   ]
  },
  {
   "cell_type": "markdown",
   "metadata": {},
   "source": [
    "**Teorema.** Supongamos que tenemos nuestra muestra $x_1,x_2,...,x_n$ (es una muestra independiente e idénticamente distribuida). Si $\\widehat{\\theta}\\in\\mathbb{R}^r$ es el estimador de máxima verosimilitud del parámetro verdadero $\\Theta$, *bajo condiciones de regularidad*, si $n$ es grande,se tiene \n",
    "\n",
    "$$\\sqrt{n}(\\widehat{\\theta}-\\Theta)\\sim N_r(\\boldsymbol{0_d},F^{-1})$$ \n",
    "\n",
    "donde $F$ es la información de Fisher: $$F=-\\frac{1}{n}E\\left[\\frac{\\partial^2}{\\partial\\theta\\partial\\theta^T}L(\\theta)\\right]$$\n",
    "\n",
    "Algunas consecuencias de este teorema son que para $n$ grande, $\\widehat{\\theta}$ es el mejor estimador de $\\Theta$."
   ]
  },
  {
   "cell_type": "markdown",
   "metadata": {},
   "source": [
    "## MLE de una normal\n",
    "\n",
    "Sean $x_1,x_2,...,x_n$ una muestra aleatoria de una normal multivariante $N_p(\\vec{\\mu},\\Sigma)$. Bajo la notación de la sección de arriba se tiene $\\Theta=(\\vec{\\mu},\\Sigma)$.\n",
    "\n",
    "En este caso, la función $L$ (el logaritmo de la función de verosimilitud) viene dada de la siguientes maneras:\n",
    "\n",
    "$$\\begin{eqnarray}L(\\vec{\\mu},\\Sigma)&=&-\\frac{np}{2}\\log(2\\pi)-\\frac{n}{2}\\log(|\\Sigma|)-\\frac{1}{2}\\sum_{i=1}^n(x_{i,\\cdot}-\\vec{\\mu})^T\\Sigma^{-1}(x_{i,\\cdot}-\\vec{\\mu})\\\\&=&-\\frac{n}{2}\\log(|\\Sigma|)-\\frac{n}{2}tr(\\Sigma^{-1}S)-\\frac{n}{2}(\\overline{x}-\\vec{\\mu})^T\\Sigma^{-1}(\\overline{x}-\\vec{\\mu})\\end{eqnarray}$$\n",
    "\n",
    "donde $S=\\sum_{i=1}^n(x_{i\\cdot}-\\vec{\\mu})^T(x_{i\\cdot}-\\vec{\\mu})$.\n",
    "\n",
    "Entonces los estimadores de máxima verosimilitud de $\\vec{\\mu}$ y $\\Sigma$ son \n",
    "\n",
    "$$\\widehat{\\vec{\\mu}}=\\overline{x}\\,\\,\\,\\,y$$\n",
    "\n",
    "$$\\widehat{\\Sigma}=\\frac{1}{n}\\sum_{j=1}^n(x_{i\\cdot}-\\overline{x})(x_{i\\cdot}-\\overline{x})^T.$$"
   ]
  }
 ],
 "metadata": {
  "kernelspec": {
   "display_name": "Python 3",
   "language": "python",
   "name": "python3"
  },
  "language_info": {
   "codemirror_mode": {
    "name": "ipython",
    "version": 3
   },
   "file_extension": ".py",
   "mimetype": "text/x-python",
   "name": "python",
   "nbconvert_exporter": "python",
   "pygments_lexer": "ipython3",
   "version": "3.7.7"
  }
 },
 "nbformat": 4,
 "nbformat_minor": 4
}
