{
 "cells": [
  {
   "cell_type": "markdown",
   "metadata": {},
   "source": [
    "<img src=\"logo.png\">"
   ]
  },
  {
   "cell_type": "markdown",
   "metadata": {},
   "source": [
    "# Visualización en varias variables\n",
    "\n",
    "La importancia de poder visualizar nuestros datos a modo de gráficas radica en el hecho que podemos obtener información acerca de la distribución de los datos, su simetría, su multimodalidad, existencia de datos atípicos o formación de grupos. \n",
    "\n",
    "La obtención visual de esta información corresponde a lo que se conoce como **análisis exploratorio**.\n",
    "\n",
    "Ahora bien, como humanos, somos capaces de interpretar o entender dos o tres dimensiones espaciales (es decir, gráficos en ejes X-Y o X-Y-Z), y sin embargo, la mayoría de las veces tendremos que visualizar datos pertenenciantes a tablas con cuatro o más columnas, de manera que la visualización de datos se convierte en un problema a resolver.\n",
    "\n",
    "En general, lo que haremos será graficar en ejes coordenados las variables cuantitativas (números) y utilizar la información de las variables cualitativas (categóricas) para añadir elementos a nuestros gráficos.\n"
   ]
  },
  {
   "cell_type": "markdown",
   "metadata": {},
   "source": [
    "## El conjunto de datos iris\n",
    "\n",
    "El [conjunto de datos iris](https://es.wikipedia.org/wiki/Conjunto_de_datos_flor_iris) es una tabla de 150 renglones y 5 columnas. La información corresponde a una muestra de tamaño 150 de flores iris.\n",
    "\n",
    "De estas 150 flores, tenemos 50 de especie setosa, 50 de especie virginica y 50 de especie versicolor.\n",
    "\n",
    "Las primeras cuatro columnas representan, respectivamente, la longitud y ancho de los sépalos y la longitud y ancho de los sépalos, en tanto la columna 5 tiene la información de a qué especie pertenece la unidad."
   ]
  },
  {
   "cell_type": "code",
   "execution_count": 71,
   "metadata": {},
   "outputs": [
    {
     "data": {
      "text/html": [
       "<div>\n",
       "<style scoped>\n",
       "    .dataframe tbody tr th:only-of-type {\n",
       "        vertical-align: middle;\n",
       "    }\n",
       "\n",
       "    .dataframe tbody tr th {\n",
       "        vertical-align: top;\n",
       "    }\n",
       "\n",
       "    .dataframe thead th {\n",
       "        text-align: right;\n",
       "    }\n",
       "</style>\n",
       "<table border=\"1\" class=\"dataframe\">\n",
       "  <thead>\n",
       "    <tr style=\"text-align: right;\">\n",
       "      <th></th>\n",
       "      <th>Unnamed: 0</th>\n",
       "      <th>Sepal.Length</th>\n",
       "      <th>Sepal.Width</th>\n",
       "      <th>Petal.Length</th>\n",
       "      <th>Petal.Width</th>\n",
       "      <th>Species</th>\n",
       "    </tr>\n",
       "  </thead>\n",
       "  <tbody>\n",
       "    <tr>\n",
       "      <th>0</th>\n",
       "      <td>1</td>\n",
       "      <td>5.1</td>\n",
       "      <td>3.5</td>\n",
       "      <td>1.4</td>\n",
       "      <td>0.2</td>\n",
       "      <td>setosa</td>\n",
       "    </tr>\n",
       "    <tr>\n",
       "      <th>1</th>\n",
       "      <td>2</td>\n",
       "      <td>4.9</td>\n",
       "      <td>3.0</td>\n",
       "      <td>1.4</td>\n",
       "      <td>0.2</td>\n",
       "      <td>setosa</td>\n",
       "    </tr>\n",
       "    <tr>\n",
       "      <th>2</th>\n",
       "      <td>3</td>\n",
       "      <td>4.7</td>\n",
       "      <td>3.2</td>\n",
       "      <td>1.3</td>\n",
       "      <td>0.2</td>\n",
       "      <td>setosa</td>\n",
       "    </tr>\n",
       "    <tr>\n",
       "      <th>3</th>\n",
       "      <td>4</td>\n",
       "      <td>4.6</td>\n",
       "      <td>3.1</td>\n",
       "      <td>1.5</td>\n",
       "      <td>0.2</td>\n",
       "      <td>setosa</td>\n",
       "    </tr>\n",
       "    <tr>\n",
       "      <th>4</th>\n",
       "      <td>5</td>\n",
       "      <td>5.0</td>\n",
       "      <td>3.6</td>\n",
       "      <td>1.4</td>\n",
       "      <td>0.2</td>\n",
       "      <td>setosa</td>\n",
       "    </tr>\n",
       "  </tbody>\n",
       "</table>\n",
       "</div>"
      ],
      "text/plain": [
       "   Unnamed: 0  Sepal.Length  Sepal.Width  Petal.Length  Petal.Width Species\n",
       "0           1           5.1          3.5           1.4          0.2  setosa\n",
       "1           2           4.9          3.0           1.4          0.2  setosa\n",
       "2           3           4.7          3.2           1.3          0.2  setosa\n",
       "3           4           4.6          3.1           1.5          0.2  setosa\n",
       "4           5           5.0          3.6           1.4          0.2  setosa"
      ]
     },
     "execution_count": 71,
     "metadata": {},
     "output_type": "execute_result"
    }
   ],
   "source": []
  },
  {
   "cell_type": "markdown",
   "metadata": {},
   "source": [
    "## Histogramas\n",
    "\n",
    "Es un gráfico que nos da información sobre la distribución **de cada columna**: posible multimodalidad, asimetría, localización, dispersión y atípicos.\n",
    "\n",
    "La idea es tener una columna con valores numéricos y dividir el rango de valores en intervalos de igual tamaño para luego contar cuántos valores cayeron en cada uno de los intervalos.\n",
    "\n",
    "Por ejemplo, en los siguientes datos, la única columna es la de *valor* (pues *índice* en realidad son los nombres de las unidades):\n",
    "\n",
    "\n",
    "índice|valor|\n",
    "--|--|\n",
    "a|11\n",
    "b|10\n",
    "c|18\n",
    "d|11\n",
    "e|11\n",
    "f|14\n",
    "g|15\n",
    "h|5\n",
    "i|5\n",
    "j|17\n",
    "k|11\n",
    "l|9\n",
    "m|7\n",
    "n|6\n",
    "ñ|16\n",
    "o|18\n",
    "p|13\n",
    "q|12\n",
    "r|6\n",
    "s|3\n",
    "t|11\n",
    "u|17\n",
    "v|19\n",
    "w|16\n",
    "x|16\n",
    "y|9\n",
    "z|2\n",
    "\n",
    "Una observación rápida nos permite ver que los datos están entre 1 y 20, aproximadamente. Podemos dividir este rango en, digamos, 4 paquetes diferentes: valores $1\\le$ y $<5$; $5\\le$ y $<10$; $10\\le$ y $<15$; y $15\\le$ y $<20$\n",
    "\n",
    "De esta manera obtenemos la **tabla de frecuencias** siguiente:\n",
    "\n",
    "Paquete|Frecuencia absoluta|Frecuencia relativa\n",
    "--|--|--\n",
    "[1,5)|2|2/27=0.074\n",
    "[5,10)|7|7/27=0.259\n",
    "[10,15)|9|9/27=0.333\n",
    "[15,20]|9|9/27=0.333\n",
    "\n",
    "Esto nos permite crear los gráficos siguientes, conocidos como **histograma absoluto** e **histograma relativo**, respectivamente.\n",
    "\n",
    "<img src=\"im05.png\">"
   ]
  },
  {
   "cell_type": "markdown",
   "metadata": {},
   "source": [
    "**Ejemplo.** Histograma de las variables numpéricas de iris\n",
    "\n",
    "<img src=\"im06.png\">"
   ]
  },
  {
   "cell_type": "markdown",
   "metadata": {},
   "source": [
    "**Ejemplo.** Histograma de la longitud del pétalo de iris separando por especie\n",
    "\n",
    "<img src=\"im07.png\">"
   ]
  },
  {
   "cell_type": "markdown",
   "metadata": {},
   "source": [
    "## Densidades\n",
    "\n",
    "Otro tipo de gráficos son las densidades.\n",
    "\n",
    "Estos se suelen dibujar encima de los histogramas. Nos aportan la información de un histograma y además estiman la función de densidad de la variable aleatoria.\n",
    "\n",
    "Las densidades se pueden visualizar para una, dos o tres columnas de una tabla."
   ]
  },
  {
   "cell_type": "markdown",
   "metadata": {},
   "source": [
    "**Ejemplo.** Densidad del ancho de sépalo en iris\n",
    "\n",
    "<img src=\"im08.png\">"
   ]
  },
  {
   "cell_type": "markdown",
   "metadata": {},
   "source": [
    "**Ejemplo.** Densidades de cada una de las variables numéricas de iris\n",
    "\n",
    "<img src=\"im09.png\">"
   ]
  },
  {
   "cell_type": "markdown",
   "metadata": {},
   "source": [
    "**Ejemplo.** Densidad de la longitud del pétalo de iris separando por especie\n",
    "\n",
    "<img src=\"im10.png\">"
   ]
  },
  {
   "cell_type": "markdown",
   "metadata": {},
   "source": [
    "**Ejemplo.** Densidad conjunto del ancho y largo de sépalo\n",
    "\n",
    "<img src=\"im12.png\">"
   ]
  },
  {
   "cell_type": "markdown",
   "metadata": {},
   "source": [
    "**Ejemplo.** Densidad conjunta del ancho y largo de sépalo para setosas y virgínicas\n",
    "\n",
    "<img src=\"im13.png\">"
   ]
  },
  {
   "cell_type": "markdown",
   "metadata": {},
   "source": [
    "**Ejemplo.** Densidad conjunta del ancho y largo de sépalo para setosas y virgínicas\n",
    "\n",
    "<img src=\"im14.png\">"
   ]
  },
  {
   "cell_type": "markdown",
   "metadata": {},
   "source": [
    "**Ejemplo.** Densidad conjunta del ancho y largo de sépalo para setosas y virgínicas\n",
    "\n",
    "<img src=\"im15.png\">"
   ]
  }
 ],
 "metadata": {
  "kernelspec": {
   "display_name": "Python 3",
   "language": "python",
   "name": "python3"
  },
  "language_info": {
   "codemirror_mode": {
    "name": "ipython",
    "version": 3
   },
   "file_extension": ".py",
   "mimetype": "text/x-python",
   "name": "python",
   "nbconvert_exporter": "python",
   "pygments_lexer": "ipython3",
   "version": "3.7.7"
  }
 },
 "nbformat": 4,
 "nbformat_minor": 4
}
