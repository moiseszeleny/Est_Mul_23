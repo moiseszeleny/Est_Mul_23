{
 "cells": [
  {
   "cell_type": "markdown",
   "metadata": {},
   "source": [
    "<img src=\"logo.png\">"
   ]
  },
  {
   "cell_type": "markdown",
   "metadata": {},
   "source": [
    "# Variables aleatorias\n",
    "\n",
    "Una variable aleatoria univariante es simplemente una medida que hacemos de una característica de una población en cada elemento de nuestra muestra.\n",
    "\n",
    "Por su parte, cuando se mide un conjunto de características en cada elemento, diremos que se ha definido una **variable aleatoria multivariante**. \n",
    "\n",
    "Estas pueden ser cualitativas o cuantitativas. Algunos ejemplos son:\n",
    "\n",
    "* Para cada estudiante de una universidad, medimos la edad, el sexo, la nota media de un curso, la ciudad de residencia.\n",
    "\n",
    "* Para cada empresa de una zona industrial medimos el número de trabajadores, la facturación, el sector industrial.\n",
    "\n",
    "* Para cada país medimos 10 indicadores de desarrollo.\n",
    "\n",
    "Como antes, en la matriz de datos cada fila representa un elemento de la población y cada columna es el valor de una característica en ese elemento de la población. Típicamente tendremos $n$ elementos y $p$ características, de modo que trataremos con matrices de $n$ filas con $p$ columnas. \n",
    "\n"
   ]
  },
  {
   "cell_type": "markdown",
   "metadata": {},
   "source": [
    "## Distribución conjunta y marginales\n",
    "\n",
    "La distribución conjunta de una variable aleatoria multivariante es la regla matemática que sirve para calcular las probabilidades de que la variable (multivariante) tome valores en un cierto conjunto. Esto es: la ley de probabilidades que siguen conjuntamente las observaciones.\n",
    "\n",
    "Por ejemplo, digamos que lanzamos tres dados justos. Sea $(X_1,X_2,X_3)$ el vector multivariante que mide las tres posibles salidas. Decimos que conocemos la distribución conjunta de los tres dados si, para cada tripleta de números $(a,b,c)$, conocemos el número \n",
    "\n",
    "$$P(\\boldsymbol{(X_1,X_2,X_2)=(a,b,c)})$$\n",
    "\n",
    "Es decir, si conocemos la probabilidad de obtener cualquier resultado del experimento. \n",
    "\n",
    "Consideremos un caso simple: únicamente mediremos dos características de nuestro estudio. Sea $(X,Y)$ el vector aleatorio. Si $(u,v)$ es una pareja de números, entonces se define la **distribución conjunta de $(X,Y)$** en el punto $(u,v)$ como la función $F_{X,Y}(u,v)$ dada por\n",
    "\n",
    "$$F_{X,Y}(u,v)=P(X\\le u,Y\\le v).$$\n",
    "\n",
    "Por su parte, como las mismas $X$ y $Y$ son variables aleatorias, tiene sus propias leyes de probabilidad. Se definen las **distribuciones marginales** de $X$ y $Y$, respectivamente, como $F_X(u)=P(X\\le u)$ y $F_Y(v)=P(Y\\le v)$.\n",
    "\n",
    "Esta tiene las siguienes propiedades:\n",
    "\n",
    "* $0\\le F_{X,Y}(u,v)\\le$ para cualquier pareja $(u,v)$.\n",
    "\n",
    "\n",
    "* $F_{X,Y}(u,v)$ es monótona creciente en cualquiera de sus variables. Es decir, si $u_1\\le u_2$ entonces $F_{X,Y}(u_1,v)\\le F_{X,Y}(u_2,v)$ para cualquier $v$. Y lo mismo para la segunda variable.\n",
    "\n",
    "\n",
    "* $\\lim_{u,v\\to-\\infty}F_{X,Y}(u,v)=\\lim_{u\\to-\\infty}F_{X,Y}(u,v)=\\lim_{v\\to-\\infty}F_{X,Y}(u,v)=0$\n",
    "\n",
    "\n",
    "* $\\lim_{u,v\\to\\infty}F_{X,Y}(u,v)=1$\n",
    "\n",
    "\n",
    "* $\\lim_{u\\to-\\infty}F_{X,Y}(u,v)=F_Y(v)$ y $\\lim_{v\\to-\\infty}F_{X,Y}(u,v)=F_X(u)$ (que son las distribuciones marginales).\n",
    "\n",
    "\n",
    "\n"
   ]
  },
  {
   "cell_type": "markdown",
   "metadata": {},
   "source": [
    "### Caso continuo \n",
    "\n",
    "El vector aleatorio $(X,Y)$ se dice **continuo** si existe una función $f_{X,Y}$ que cumpla, para cualquier pareja de números $(u,v)$ la siguiente igualdad: \n",
    "\n",
    "$$F_{X,Y}(u,v)=\\int_{-\\infty}^u\\int_{-\\infty}^v f_{X,Y}(x,y)\\,\\mathrm{d}y\\mathrm{d}x.$$\n",
    "\n",
    "A esta función se le conoce como **densidad del vector aleatorio (X,Y)**. Las densidades marginales se definen como \n",
    "\n",
    "$$f_X(u)=\\int_{-\\infty}^\\infty f_{X,Y}(u,v)\\,\\mathrm{d}v\\,\\,y\\,\\,f_Y(v)=\\int_{-\\infty}^\\infty f_{X,Y}(u,v)\\,\\mathrm{d}u$$"
   ]
  },
  {
   "cell_type": "markdown",
   "metadata": {},
   "source": [
    "**Ejemplo.**\n",
    "\n",
    "Supongamos que $(X,Y)$ tienen función de densidad conjunta dada por $$f_{X,Y}(u,v)=\\left\\{\\begin{array}{cc}4uv&si\\,\\,\\,0\\le u,v\\le 1\\\\0&e.o.c\\end{array}\\right.$$\n",
    "\n",
    "* Las densidades marginales serían: $$f_X(u)=\\int_{-\\infty}^\\infty f_{X,Y}(u,v)\\,\\mathrm{d}v=\\int_0^14uv\\,\\mathrm{d}v=4u\\left.\\frac{v^2}{2}\\right|_{v=0}^1=2u$$ si $0\\le u\\le 1$. De la misma manera obtenemos $f_Y(v)=2v$ si $0\\le v\\le 1$.\n",
    "\n",
    "\n",
    "* La función de distribución conjunta es $$F_{X,Y}(u,v)=\\int_{-\\infty}^u\\int_{-\\infty}^v f_{X,Y}(x,y)\\,\\mathrm{d}y\\mathrm{d}x= \\int_{0}^u\\int_{0}^v 4xy\\,\\mathrm{d}y\\mathrm{d}x=u^2v^2$$ si $0\\le u,v\\le1$\n",
    "\n"
   ]
  },
  {
   "cell_type": "markdown",
   "metadata": {},
   "source": [
    "## Distribución condicional e independencia\n",
    "\n",
    "Sean $(X,Y)$ dos variables aleatorias con densidades $f_X$ y $f_Y$, y conjunta $f_{X,Y}$. Se define la **densidad condicional de X dado Y** como $$f_{X|Y}(u|v)=\\frac{f_{X,Y}(u,v)}{f_Y(v)}.$$ De manera análoga se define la densidad condicional de Y dado X.\n",
    "\n",
    "Intuitivamente, partimos del concepto de probabilidad condicional: si $A$ y $B$ son eventos que pueden ocurrir en nuestro experimento, entonces $P(A|B)=\\frac{P(A\\cap B)}{P(B)}$ es la probabilidad de que suceda el evento $A$ si sabemos que ocurrió el evento $B$.\n",
    "\n",
    "De esta manera, tenemos $F_{X|Y}(u,v)=\\frac{F_{X,Y}(u,v)}{F_Y(v)}=P(X\\le u|Y\\le v)$."
   ]
  },
  {
   "cell_type": "markdown",
   "metadata": {},
   "source": [
    "### Independencia\n",
    "\n",
    "Se dice que $X$ y $Y$ son independientes si $f_{X,Y}(u,v)=f_X(u)f_Y(v)$ para cualesquiera $u,v$. Esto equivale a que $F_{X,Y}(u,v)=F_X(u)F_Y(v)$. Además se tiene $f_{Y|X}(u|v)=f_Y(v)$ y $f_{X|Y}(u|v)=f_X(u)$. \n",
    "\n",
    "Es decir, si son independientes, condicionar una respecto de la otra no produce cambios (en cristiano: lo que pasa con una característica no afecta de ninguna manera lo que sucede con la otra).\n",
    "\n",
    "**Observación:** esto no significa que sean \"variables disjuntas\". Es decir, se pueden tener dos variables $X,Y$ independientes, pero el evento $\\{X\\le a\\}\\cap\\{Y\\le b\\}\\neq\\emptyset$.  "
   ]
  },
  {
   "cell_type": "markdown",
   "metadata": {},
   "source": [
    "## Esperanza, covarianza y correlación.\n",
    "\n",
    "Sea $\\boldsymbol{X}=(X_1,X_2,\\cdots,X_p)$ un vector aleatorio formado por $p$ variables aleatorias univariantes. Para cada $i$ fijo, se define la **esperanza de la variable aleatoria $i$** como $E[X_i]=\\int_{-\\infty}^\\infty xf_{X_i}(x)\\,\\mathrm{d}x$. Este, es el valor de equilibrio de la variable aleatoria.\n",
    "\n",
    "Por su parte, el **vector de esperanza** de $\\boldsymbol{X}$ es simplemente $$E[\\boldsymbol{X}]=(E[X_1],E[X_2],...,E[X_p]).$$ Este vector representa las coordenadas del punto de equilibrio del vector aleatorio.\n",
    "\n",
    "Por otra parte, si $X$ es una variable aleatoria univariante, su varianza se define como $Var(X)=E[(X-E[X])^2]=E[X^2]-E[X]^2$, y siempre es un número mayor o igual a 0 (solo es 0 si la variable aleatoria es constante; es decir, si todos los elementos de la muestra tienen exactamente la misma característica). A su vez, si $X$ y $Y$ son dos variables aleatorias, entonces $Cov(X,Y)=E[(X-E[X])(Y-E[Y])]=E[XY]-E[X]E[Y]$, en tanto que $Corr(X,Y)=\\frac{Var(X,Y)}{sd(X)sd(Y)}$, donde $sd$ de una variable aleatoria es la raíz cuadrada de su varianza.\n",
    "\n",
    "La **matriz de covarianza** de un vector aleatorio (es decir, una variable aleatoria multivariante) $X=(X_1,X_2,...,X_m)$ es una matriz simétrica y semidefinida positiva donde los elementos de la diagonal principal son las varianzas de las $X_i$ y los elementos fuera de la diagonal principal son las covarianzas.\n",
    "\n",
    "Más aún, si $X=(X_1,X_2,...,X_p)$ y $Y=(Y_1,Y_2,...,Y_m)$ son dos vectores aleatorios (notar que no necesariamente del mismo tamaño) entonces la matriz de covarianza de $X$ y $Y$ es de tamaño $p\\times m$ se define con $Cov(X_i,Y_j)$. En símbolos concretos, si $p=2$ y $q=3$, entonces: \n",
    "\n",
    "$$Cov(X,Y)=\\left(\\begin{array}{ccc}Cov(X_1,Y_1)&Cov(X_1,Y_2)&Cov(X_1,Y_3)\\\\Cov(X_2,Y_1)&Cov(X_2,Y_2)&Cov(X_2,Y_3)\\end{array}\\right)$$\n",
    "\n",
    "Análogamente se define su correlación.\n"
   ]
  },
  {
   "cell_type": "markdown",
   "metadata": {},
   "source": [
    "### Esperanza condicional\n",
    "\n",
    "Si $X,Y$ son dos variables aleatorias unidimensionales, el valor esperado de $X$ dado $Y$ se define como $$E_{X|Y}[u|v]=\\int xf_{x|y}(v|x)\\,\\mathrm{d}x,$$ y es una función que depende de $v$.\n",
    "\n",
    "Esta tiene varias propiedades interesantes, que son mas o menos claras cuando se le ve desde el punto de vista totalmente matemático: si $(\\Omega,\\mathcal{F},P)$ es un espacio de probabilidad, $X$ es una variable aleatorio *con varianza finita* (es decir, $X\\in L^2(\\Omega)$, y $\\mathcal{G}$ es una subálgebra de $\\mathcal{F}$, entonces $E[X|\\mathcal{G}]$ es la única variable aleatoria tal que $$\\int_G X\\,\\mathrm{d}P=\\int_G E[X|\\mathcal{G}]\\,\\mathrm{d}P$$ para toda $G\\in\\mathcal{G}$.\n",
    "\n",
    "Esto es: $E[X|\\mathcal{G}]$ es la proyección ortogonal (en el espacio de Hilbert $L^2(\\Omega)$) de $X$ sobre las funciones $\\mathcal{G}$-medibles."
   ]
  },
  {
   "cell_type": "markdown",
   "metadata": {},
   "source": [
    "<img src=\"esp_cond.png\">"
   ]
  },
  {
   "cell_type": "markdown",
   "metadata": {},
   "source": [
    "**Observaciones teóricas**\n",
    "\n",
    "<img src=\"observaciones.png\">"
   ]
  }
 ],
 "metadata": {
  "kernelspec": {
   "display_name": "Python 3",
   "language": "python",
   "name": "python3"
  },
  "language_info": {
   "codemirror_mode": {
    "name": "ipython",
    "version": 3
   },
   "file_extension": ".py",
   "mimetype": "text/x-python",
   "name": "python",
   "nbconvert_exporter": "python",
   "pygments_lexer": "ipython3",
   "version": "3.7.7"
  }
 },
 "nbformat": 4,
 "nbformat_minor": 4
}
