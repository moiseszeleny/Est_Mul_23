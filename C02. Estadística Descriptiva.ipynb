{
 "cells": [
  {
   "cell_type": "markdown",
   "metadata": {},
   "source": [
    "<img src=\"logo.png\">"
   ]
  },
  {
   "cell_type": "markdown",
   "metadata": {},
   "source": [
    "# Estadística Descriptiva\n",
    "\n",
    "Para describir numéricamente los datos en el caso univariante usualmente se utilizan los siguientes estadísticos muestrales:\n",
    "\n",
    "* Media muestral\n",
    "\n",
    "* Desviación típica \n",
    "\n",
    "* Varianza muestral\n",
    "\n",
    "* Covarianza muestral\n",
    "\n",
    "* Correlación muestral\n",
    "\n",
    "En general, nos interesa conocer información como la localización, la dispersión o la dependencia."
   ]
  },
  {
   "cell_type": "markdown",
   "metadata": {},
   "source": [
    "## Notación\n",
    "\n",
    "Supongamos que tenemos una tabla con $p$ columnas y $n$ filas. La variable aleatoria $i$, con $i=1,2,3,...,p$, se denota por $X_i$. Su valor en la unidad $j$ (es decir, en la fila $j$) se denota por $x_i^{(j)}$.\n",
    "\n",
    "A todos los valores que toma la variable aleatoria $X_i$ dentro de la tabla (es decir, la columna de datos como tal) se le denota por $\\boldsymbol{x_i}$. Y la tabla completa, entendida como una matrix, se le denota por $\\boldsymbol{X}$, de tal manera que $$\\boldsymbol{X=[x_1,x_2,...,x_p]}$$\n",
    "\n",
    "**Ejemplo.**\n",
    "\n",
    "En la siguiente tabla de datos \n",
    "\n",
    "<img src=\"im02.png\">\n",
    "\n",
    "se tiene:\n",
    "\n",
    "\n",
    "* $\\boldsymbol{X}$ es la matriz completa; $p=4$ y $n=5$.\n",
    "\n",
    "* Las $p$ variables aleatorias son $X_1=estatura$, $X_2=Peso$, $X_3=Sexo$ y $X_4=Edad$\n",
    "\n",
    "* $\\boldsymbol{x_1}=(1.7,1.85,1.6,1.56,1.56)$\n",
    "\n",
    "* $x_{2}^{(4)}=40$"
   ]
  },
  {
   "cell_type": "markdown",
   "metadata": {},
   "source": [
    "## Localización \n",
    "\n",
    "### Media\n",
    "\n",
    "En el caso de una variable, si tenemos las observaciones $x=(x_1,x_2,...,x_n)$ de una característica para $n$ elementos de la muestra, su media se calcula simplemente como $$\\overline{x}=\\frac{1}{n}\\sum_{i=1}^nx_i=\\frac{x_1+x_2+...+x_n}{n}.$$ Es decir, se trata del promedio de los valores que tiene esa característica en toda la muestra.\n",
    "\n",
    "\n",
    "La medida de localización clásica para describir datos multivariantes es el **vector de medias**, que tiene dimensión igual a la cantidad de variables que tengamos (la $p$). Si $\\boldsymbol{X=[x_1,x_2,...,x_p]}$, entonces el vector de medias es $$\\boldsymbol{\\overline{x}}=(\\overline{x_1},\\overline{x_2},...,\\overline{x_p})$$\n",
    "\n",
    "<img src=\"im04.png\">"
   ]
  },
  {
   "cell_type": "markdown",
   "metadata": {},
   "source": [
    "### Mediana\n",
    "\n",
    "También existe un vector de medianas. Sin embargo, pensemos un momento: el concepto univariante de la mediana se basa en nuestra capacidad para ordenar los datos. En el caso de datos multivariantes no hay un orden natural de los puntos de datos. Para desarrollar el concepto de la mediana en este caso, primero tenemos que acordar alguna convención para definir el \"orden\".\n",
    "\n",
    "Una manera de definir orden es utilizando distancias. El caso mas simple es usar la fórmula usual de distancia: si $\\vec{u}=(u_1,u_2,...,u_p)$ y $\\vec{v}=(v_1,v_2,...,v_p)$, se define su distancia como $$d(\\vec{u},\\vec{v})=\\sqrt{(u_1-v_1)^2+(u_2-v_2)^2+...+(u_n-v_n)^2}.$$\n",
    "\n",
    "En el espacio univariante, la mediana tiene una propiedad importante: minimiza la suma de los valores absolutos. Es decir, si $x=(x_1,x_2,...,x_n)$ son las $n$ observaciones de una característica, entonces $med(x)=argmin_{y\\in\\mathbb{R}}\\sum_{i=1}^n|x_i-y|$.\n",
    "\n",
    "Esta idea nos sirve para definir la **mediana espacial** o **mediana geométrica** (o mediana $L^1$ para los matemáticos) como $$med_G(\\boldsymbol{X})=argmin_{\\boldsymbol{y}\\in\\mathbb{R}^p}\\sum_{i=1}^nd(\\boldsymbol{x},\\boldsymbol{y})$$\n",
    "\n",
    "Si no entendiste lo anterior, no te preocupes. Para fijar ideas, tomemos $p=2$ (es decir, solo nos interesa hacer investigación sobre dos características) y $n=6$. Entonces se buscaría el punto azul tal que la suma de sus distancias a los puntos rojos sea mínima. Es decir, el que se encuentra uniformemente más cerca de todos.\n",
    "\n",
    "<img src=\"im03.png\">"
   ]
  },
  {
   "cell_type": "markdown",
   "metadata": {},
   "source": [
    "## Dispersión \n",
    "\n",
    "En el caso univariante, la varianza es la media de las distancias al cuadrado de los valores a la media (QUÉ?). En símbolos: $$var(\\boldsymbol{x})=s^2=\\frac{1}{n-1}\\sum_{i=1}^n(x_i-\\overline{\\boldsymbol{x}})^2.$$ Aquí, recordemos que se trata de observar una sola característica de una muestra de $n$ elementos, la cual guardamos en el vector $\\boldsymbol{x}=(x_1,x_2,...,x_n)$. Básicamente la varianza es una medida de cómo se alejan, en promedio, las observaciones de su media.\n",
    "\n",
    "La desviación típica es simplemente la raíz cuadrada de la varianza, y se denota por $sd(x)$\n",
    "\n",
    "En el caso multivariante, cada característica tiene su propia varianza y desviación típica. Sin embargo, nos interesará también cómo se relacionan las variables entre sí.\n",
    "\n",
    "La covarianza es un valor que indica el grado de variación conjunta de dos características $\\boldsymbol{x_1}$  y $\\boldsymbol{x_1}$ respecto a sus medias, lo cual permite determinar si existe una **dependencia lineal** entre ambas variables: $$cov(\\boldsymbol{x_1},\\boldsymbol{x_2})=\\frac{1}{n-1}\\sum_{i=1}^n(x_{i1}-\\boldsymbol{\\overline{x_1}})(x_{i2}-\\boldsymbol{\\overline{x_2}})$$\n",
    "\n",
    "Para cada par de características de nuestro estudio existe una covarianza.\n",
    "\n",
    "Un concepto íntimamante asociado a la covarianza es el **coeficiente de correlación lineal** (o de Fisher), que se define como $$\\rho(\\boldsymbol{x_1},\\boldsymbol{x_2})=\\frac{cov(\\boldsymbol{x_1},\\boldsymbol{x_2})}{sd(\\boldsymbol{x_1})sd(\\boldsymbol{x_2})}=\\frac{\\sum_{i=1}^n(x_{i1}-\\boldsymbol{\\overline{x_1}})(x_{i2}-\\boldsymbol{\\overline{x_2}})}{\\sqrt{\\sum_{i=1}^n(x_{i1}-\\boldsymbol{\\overline{x_1}})}\\sqrt{\\sum_{i=1}^n(x_{i2}-\\boldsymbol{\\overline{x_2}})}}$$\n",
    "\n",
    "\n",
    "El coeficiente de correlación siempre es un número entre -1 y 1. Su interpretación es la siguiente:\n",
    "\n",
    "* Si vale 1, entonces hay una relación lineal **directa** entre las dos características. Es decir, existe un número positivo $a$ y un número $b$ tal que, para cualquier individuo de la población, se tiene \"característica1 $=$ $a*$característica2 + b\".\n",
    "\n",
    "\n",
    "* Si vale -1, entonces hay una relación lineal **inversa** entre las dos características. Es decir, existe un número negativo $a$ y un número $b$ tal que, para cualquier individuo de la población, se tiene \"característica1 $=$ $a*$característica2 + b\".\n",
    "\n",
    "\n",
    "* Si vale 0, entonces no existe números $a$ y $b$ tales que característica1 $=$ $a*$característica2 + b **uniformemente**.\n",
    "\n",
    "**Observación MUY IMPORTANTE.** El hecho de que la correlación lineal sea 0 solo significa que no hay relación lineal entre las variables. Sin embargo, se puede tener relación no lineal."
   ]
  },
  {
   "cell_type": "markdown",
   "metadata": {},
   "source": [
    "Es claro que existe un coeficiente de correlación para cada par de característica (y la correlación de una característica consigo misma es 1). "
   ]
  },
  {
   "cell_type": "markdown",
   "metadata": {},
   "source": [
    "Una vez que tenemos las varianzas,covarianzas y correlaciones, se puede construir la **matriz de covarianzas**:\n",
    "\n",
    "$$\\boldsymbol{S_X}=\\left(\\begin{array}{ccccc}var(\\boldsymbol{x_1})&cov(\\boldsymbol{x_1},\\boldsymbol{x_2})&cov(\\boldsymbol{x_1},\\boldsymbol{x_3})&\\cdots&cov(\\boldsymbol{x_1},\\boldsymbol{x_p})\\\\cov(\\boldsymbol{x_2},\\boldsymbol{x_1})&var(\\boldsymbol{x_2})&cov(\\boldsymbol{x_2},\\boldsymbol{x_3})&\\cdots&cov(\\boldsymbol{x_2},\\boldsymbol{x_p})\\\\cov(\\boldsymbol{x_3},\\boldsymbol{x_1})&cov(\\boldsymbol{x_3},\\boldsymbol{x_2})&var(\\boldsymbol{x_3})&\\cdots&cov(\\boldsymbol{x_3},\\boldsymbol{x_p})\\\\\\vdots&\\vdots&\\vdots&\\vdots&\\vdots\\\\cov(\\boldsymbol{x_p},\\boldsymbol{x_1})&cov(\\boldsymbol{x_p},\\boldsymbol{x_2})&cov(\\boldsymbol{x_p},\\boldsymbol{x_3})&\\cdots&var(\\boldsymbol{x_p})\\end{array}\\right)$$"
   ]
  },
  {
   "cell_type": "markdown",
   "metadata": {},
   "source": [
    "Así como tenemos la matriz de covarianzas, también tendremos de manera análoga la matriz de correlaciones $\\boldsymbol{R_X}$. Esta tiene propiedades importantes: si su determinante es 0, entonces hay variables que son combinación lineal de otras, y su rango indica cuántas son linealmente independientes."
   ]
  }
 ],
 "metadata": {
  "kernelspec": {
   "display_name": "Python 3",
   "language": "python",
   "name": "python3"
  },
  "language_info": {
   "codemirror_mode": {
    "name": "ipython",
    "version": 3
   },
   "file_extension": ".py",
   "mimetype": "text/x-python",
   "name": "python",
   "nbconvert_exporter": "python",
   "pygments_lexer": "ipython3",
   "version": "3.7.7"
  }
 },
 "nbformat": 4,
 "nbformat_minor": 4
}
