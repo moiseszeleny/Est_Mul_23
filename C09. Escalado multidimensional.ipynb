{
 "cells": [
  {
   "cell_type": "markdown",
   "metadata": {},
   "source": [
    "<img src=\"logo.png\">"
   ]
  },
  {
   "cell_type": "markdown",
   "metadata": {},
   "source": [
    "# Escalado multidimensional\n",
    "\n",
    "El escalado multidimensional es una generalización del análisis por componentes principales. \n",
    "\n",
    "En lugar de disponer de una matriz de observaciones por variables de tamaño $n\\times p$, como en componentes principales, se dispone de una matriz $D$, de $n\\times n$, de distancias, valores de proximidad, similaridades, o disimilaridades entre los $n$ elementos.\n",
    "\n",
    "Por ejemplo, esa matriz $D$ puede representar:\n",
    "\n",
    "1. Las similitudes o distancias entre $n$ productos fabricados por una empresa.\n",
    "2. Las distancias percibidas entre $n$ candidatos políticos.\n",
    "3. Las diferencias entre $n$ preguntas de un cuestionario.\n",
    "4. Las distancias o similitudes entre $n$ sectores industriales.\n",
    "\n",
    "Estas distancias en $D$ pueden haberse obtenido a partir de ciertas variables. O pueden ser el resultado de una estimación directa, por ejemplo, opiniones de ciertos jueces sobre las similaridades entre los elementos considerados. \n",
    "\n",
    "El objetivo que se pretende es representar esta matriz mediante un conjunto de variables incorrelacionadas $Y_1,Y_2,...,Y_p$ donde $p<n$ de manera que las distancias euclídeas entre las coordenadas de los elementos respecto a estas variables sean iguales (o lo más próximas posibles) a las distancias o disimilaridades de la matriz original.\n",
    "\n",
    "En general no es siempre posible encontrar $p$ variables que reproduzcan exactamente las distancias iniciales. Sin embargo, es frecuente encontrar variables que reproduzcan aproximadamente las distancia iniciales. Por otro lado, si la matriz de distancias se ha generado calculando las distancias euclídeas entre las observaciones definidas por ciertas variables, sí podremos recuperar las componentes principales de estas variables.\n",
    "\n",
    "El escalado multidimensional comparte con componentes principales el objetivo de describir e interpretar los datos. Si existen muchos elementos, la matriz de similaridades será muy grande y la representación por unas pocas variables de los elementos nos permitirá entender su estructura: qué elementos tienen propiedades similares, si aparecen grupos entre los elementos, si hay elementos atípicos, etc. Además, si podemos interpretar las variables aumentará nuestro conocimiento del problema, al entender cómo se han generado los datos.\n",
    "\n",
    "El escalado multidimensional representa un enfoque complementario a componentes principales en el sentido siguiente: componentes principales considera la matriz $p\\times p$ de correlaciones (o covarianzas) entre variables, e investiga su estructura. El escalado multidimensional considera la matriz $n\\times n$ de correlaciones (o covarianzas) entre individuos, e investiga su estructura."
   ]
  },
  {
   "cell_type": "markdown",
   "metadata": {},
   "source": [
    "## Escalado métrico o por coordenadas principales\n",
    "\n",
    "Dada la matriz de datos $\\boldsymbol{X}$, de tamaño $n\\times p$, podemos obtener los datos centrados $\\overline{\\boldsymbol{X}}$. Entonces la matriz $Q=\\overline{\\boldsymbol{X}}\\overline{\\boldsymbol{X}}^T$ puede interpretarse como una matriz de similitud de los $n$ elementos. \n",
    "\n",
    "Ahora bien, si $x_i=(x_{i1},x_{i2},...,x_{ip})$ y $x_j=(x_{j1},x_{j2},...,x_{jp})$ son dos elementos de la tabla, su distancia euclídea al cuadrado viene dada por $d^2_{ij}=(x_{i1}-x_{j1})^2+(x_{i2}-x_{j2})^2+...+(x_{ip}-x_{jp})^2$, que desarrollando y escribiendo en términos de $Q$ nos da $$d_{ij}^2=Q_{ii}+Q_{jj}-2Q_{ij}.$$\n",
    "\n",
    "Por tanto, dada la matriz $\\overline{\\boldsymbol{X}}$ de datos centrados podemos construir la matriz de similitud $Q$ y a partir de ella, la matriz $D$ de distancias al cuadrado entre dos elementos.\n",
    "En forma matricial: $D=diag(Q)1^T+1diag(Q)-2Q$\n",
    "\n",
    "El problema que vamos a abordar es el inverso:\n",
    "\n",
    "<img src=\"escalado_metrico1.png\">\n",
    "\n",
    "No obstante, una vez obtenida $Q^*$, la estimación de $Q$, en el recuadro 2, se puede demostrar que $Q^*=YY^T$ para cierta matriz $Y$. ¿Es esta la matriz que buscamos $\\overline{\\boldsymbol{X}}$?\n",
    "\n",
    "Notemos que si $A$ es una matriz ortogonal, entonces $Q=\\overline{\\boldsymbol{X}}\\overline{\\boldsymbol{X}}^T=(\\overline{\\boldsymbol{X}}A)(A^T\\overline{\\boldsymbol{X}}^T))=(\\overline{\\boldsymbol{X}}A)(\\overline{\\boldsymbol{X}}A)^T$. Por lo tanto, $Q$ no determina una única matriz $\\overline{\\boldsymbol{X}}$.\n",
    "\n",
    "No obstante, esto no es grave: lo anterior nos dice que de $D$ solo es posible obtener una rotación de los datos $\\overline{\\boldsymbol{X}}$ dada por la matriz $Y$ la cual llamaremos matriz de **coordenadas principales**.\n",
    "\n"
   ]
  }
 ],
 "metadata": {
  "kernelspec": {
   "display_name": "R",
   "language": "R",
   "name": "ir"
  },
  "language_info": {
   "codemirror_mode": "r",
   "file_extension": ".r",
   "mimetype": "text/x-r-source",
   "name": "R",
   "pygments_lexer": "r",
   "version": "3.6.1"
  }
 },
 "nbformat": 4,
 "nbformat_minor": 4
}
