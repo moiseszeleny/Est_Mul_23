{
 "cells": [
  {
   "cell_type": "markdown",
   "metadata": {},
   "source": [
    "<img src=\"logo.png\">"
   ]
  },
  {
   "cell_type": "markdown",
   "metadata": {},
   "source": [
    "# Mixtura de distribuciones\n",
    "\n",
    "Es una técnica que consiste en representar una distribución multivariante como mediante una suma ponderada (mixtura) de diferentes distribuciones. Así, decimos que una variable aleatoria multivariante $X=(X_1,X_2,...X_p)$ tiene una mixtura de distribuciones si \n",
    "\n",
    "$$f_X(\\vec{u})=\\sum_{k=1}^Kw_kf_X(\\vec{u};k)$$ \n",
    "\n",
    "donde $w_k\\ge0$ son números tales que $w_1+w_2+...+w_K=1$ y $f_X(\\cdot;k)$, para cada $k$, es la densidad de alguna variable aleatoria multivariante.\n"
   ]
  },
  {
   "cell_type": "markdown",
   "metadata": {},
   "source": [
    "## Interpretación\n",
    "\n",
    "Puede interpretarse en términos de una población heterogénea. Asumiendo que la variable aleatoria multivariante $X$ está definida en una población heterogénea que se puede subdividir en $K$ grupos homogéneos. Entonces $w_1,w_2,...,w_K$ puede verse como la proporción de elementos de los grupos $1,2,...,K$ mientras que $f_X(\\cdot;1),f_X(\\cdot;2),\\cdots,f_X(\\cdot;K)$ son las funciones de densidad asociadas a cada subgrupo de la población."
   ]
  },
  {
   "cell_type": "markdown",
   "metadata": {},
   "source": [
    "# Cópulas.\n",
    "\n",
    "Si tenemos un vector aleatorio $X$ cuya función de distribución conjunta es $F_X$, podemos marginalizar y obtener las funciones de distribución marginales de cada una de sus componentes (que son variables aleatorias univariantes).\n",
    "\n",
    "Sin embargo, a partir de conocer las marginales no se puede obtener, en general, la distribución conjunta (a menos que tengamos independencia, pues recordemos que en ese caso la distribución conjunta es el producto de las distribuciones marginales).\n",
    "\n",
    "El concepto de **cópula** sirve para conectar funciones de densidad marginales con funciones de densidad conjunta. Por simplicidad vamos a centrarnos en el caso bidimensional $p=2$. Una cópula bidimensional es una función $C:[0,1]^2\\to[0,1]$ con las siguientes propiedades:\n",
    "\n",
    "* Para cada $u,v\\in [0,1]$ se tiene $C(u,0)=C(0,v)=0$.\n",
    "\n",
    "* Para cada $u,v\\in [0,1]$ se tiene $C(u,1)=u$ y $C(1,v)=v$.\n",
    "\n",
    "* Para cada $(u_1,v_1),(u_2,v_2)\\in [0,1]^2$ con $u_1\\le u_2$ y $v_1\\le v_2$ se cumple $C(u_2,v_2)+C(u_1,v_1)\\ge C(u_2,v_1)+C(u_1,v_2)$\n",
    "\n",
    "<img src=\"copulas.png\">\n",
    "\n",
    "**Teorema de Sklar.** Consideremos el vector aleatorio bidimensional $(X,Y)$. Sea $F_{X,Y}$ la función de distribución conjunta con marginales $F_X$ y $F_Y$. Entonces existe una función cópula $C_{X,Y}$ tal que: \n",
    "\n",
    "$F_{X,Y}(u,v)=C_{X,Y}(F_X(u),F_Y(v))$\n",
    "\n",
    "Es decir, **siempre existe una cópula que enlaza a través de la cual se puede recuperar la distribución conjunta a través de las marginales**. Además, si $F_X$ y $F_Y$ son continuas, la cópula es única.\n"
   ]
  },
  {
   "cell_type": "markdown",
   "metadata": {},
   "source": [
    "## Independencia\n",
    "\n",
    "Si $X$ y $Y$ son variables aleatorias univariantes, entonces son independientes si y solo si $C_{X,Y}(F_X,F_Y)=F_XF_Y$ donde $C_{X,Y}$ es la cópula del Teorema de Sklar. Esta cópula se llama **cópula de independencia.**\n",
    "\n",
    "## Cópula Gaussiana\n",
    "\n",
    "Consideremos $F_Z$ la función de distribución de una Normal univariante estándar.\n",
    "\n",
    "Sea $F_X$ la función de distribución conjunta de $X$, un vector aleatorio $p$-dimensional, con vector de medias $\\mu$ y matriz de correlaciones $R$.\n",
    "\n",
    "Entonces la función: $C^{(G)}$ dada por \n",
    "\n",
    "$$C^{(G)}(\\vec{u})=F_X(F_Z^{-1}(u_1),F_Z^{-1}(u_2),...,F_Z^{-1}(u_p))$$\n",
    "\n",
    "se llama **cópula gaussiana** $p$ dimensional con matriz de correlaciones $R$, donde $\\vec{u}=(u_1,u_2,...,u_p)\\in [0,1]^p$."
   ]
  },
  {
   "cell_type": "markdown",
   "metadata": {},
   "source": [
    "**Teorema.** Sean $U$ una variable aleatoria uniforme en $(0,1)$ y $F$ una función de distribución (es decir, $F$ es no decreciente, continua por la derecha, su límmite en $-\\infty$ es 0 y su límite en $+\\infty$ es 1). Si se define una variable aleatoria $X$ como $X=F^{-1}(U)$, entonces $F_X=F$."
   ]
  }
 ],
 "metadata": {
  "kernelspec": {
   "display_name": "Python 3",
   "language": "python",
   "name": "python3"
  },
  "language_info": {
   "codemirror_mode": {
    "name": "ipython",
    "version": 3
   },
   "file_extension": ".py",
   "mimetype": "text/x-python",
   "name": "python",
   "nbconvert_exporter": "python",
   "pygments_lexer": "ipython3",
   "version": "3.7.7"
  }
 },
 "nbformat": 4,
 "nbformat_minor": 4
}
