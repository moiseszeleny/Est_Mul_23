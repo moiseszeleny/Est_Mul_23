{
 "cells": [
  {
   "cell_type": "markdown",
   "metadata": {},
   "source": [
    "<img src=\"logo.png\">"
   ]
  },
  {
   "cell_type": "markdown",
   "metadata": {},
   "source": [
    "# Contraste de igualdad de varias medias\n",
    "\n",
    "Supongamos que tenemos una muestra de tamaño $n$ de una variable aleatoria $p$-dimensional $\\boldsymbol{X=[x_1,x_2,...,x_p]}$. Digamos que esta muestra se puede clasificar en $G$ grupos de tamaño $n_1,n_2,...,n_G$. Por lo tanto $n_1+n_2+...+n_G=n$.\n",
    "\n",
    "Asumamos que cada grupo sigue una normal, y todos los grupos tienen la misma varianza $\\Sigma$. Nos interesa saber si todos los grupos tienen la misma media poblacional:\n",
    "\n",
    "$$\\left\\{\\begin{array}{c}H_0:\\vec{\\mu_1},\\vec{\\mu_2},...,\\vec{\\mu_G}=\\vec{\\mu_0}\\\\H_1:\\mbox{no todas son iguales}\\end{array}\\right.$$\n",
    "\n",
    "Este problema también se conoce como **análisis de varianza multivariante.** \n",
    "\n",
    "En este caso tenemos $L(H_0)=-\\frac{n}{2}\\log|S|-\\frac{np}{2}$ y, para $H_1$ debemos considerar los grupos en que clasificamos la muestra, de donde se obtiene $L(H_1)=-\\frac{n}{2}\\log|S_W|-\\frac{np}{2}$ donde $$S_W=\\frac{1}{n}\\sum_{g=1}^G\\sum_{h=1}^{n_g}(x_{h,g}-\\overline{x_g})(x_{h,g}-\\overline{x_g})^T$$ \n",
    "\n",
    "De esta manera, $\\lambda=n\\log\\left(\\frac{|S|}{|S_W|}\\right)$. Como siempre, rechazamos $H_0$ cuando $\\lambda$ sea suficientemente grande. Es decir, cuando la variabilidad suponiendo que todas las medias son iguales, medida por $|S|$, sea mucho mayor que la variabilidad cuando permitimos que las medias de los grupos sean distintas, medida por $|S_W|$.\n",
    "\n",
    "Su distribución, para $n$ grande, es una chi cuadrada con $p(G-1)$ grados de libertad.\n"
   ]
  },
  {
   "cell_type": "markdown",
   "metadata": {},
   "source": [
    "**Ejemplo.** Tomemos la tabla de iris. Por lo tanto $n=150$, $p=4$ y $G=3$ (hay tres grupos). Además $n_1=n_2=n_3=50$. El contraste que haremos será\n",
    "\n",
    "$$\\left\\{\\begin{array}{c}H_0:\\vec{\\mu_1},\\vec{\\mu_2},\\vec{\\mu_3}=\\vec{\\mu_0}\\\\H_1:\\mbox{no todas son iguales}\\end{array}\\right.$$"
   ]
  },
  {
   "cell_type": "code",
   "execution_count": 1,
   "metadata": {},
   "outputs": [],
   "source": [
    "## x1=largo del sépalo; x2=ancho del sépalo; x3=largo del pétalo; x4=ancho del pétalo\n",
    "n=150\n",
    "p=4\n",
    "G=3\n",
    "n1=50\n",
    "n2=50\n",
    "n3=50"
   ]
  },
  {
   "cell_type": "markdown",
   "metadata": {},
   "source": [
    "Calculemos el vector de medias muestrales de cada grupo:"
   ]
  },
  {
   "cell_type": "code",
   "execution_count": 2,
   "metadata": {},
   "outputs": [],
   "source": [
    "setosa <- iris[iris$Species == \"setosa\", ]\n",
    "versicolor <- iris[iris$Species == \"versicolor\",]\n",
    "virginica <- iris[iris$Species == \"virginica\",]"
   ]
  },
  {
   "cell_type": "code",
   "execution_count": 4,
   "metadata": {},
   "outputs": [
    {
     "data": {
      "text/html": [
       "<ol class=list-inline>\n",
       "\t<li>50</li>\n",
       "\t<li>5</li>\n",
       "</ol>\n"
      ],
      "text/latex": [
       "\\begin{enumerate*}\n",
       "\\item 50\n",
       "\\item 5\n",
       "\\end{enumerate*}\n"
      ],
      "text/markdown": [
       "1. 50\n",
       "2. 5\n",
       "\n",
       "\n"
      ],
      "text/plain": [
       "[1] 50  5"
      ]
     },
     "metadata": {},
     "output_type": "display_data"
    }
   ],
   "source": [
    "dim(virginica)"
   ]
  },
  {
   "cell_type": "code",
   "execution_count": 5,
   "metadata": {},
   "outputs": [
    {
     "data": {
      "text/html": [
       "<dl class=dl-horizontal>\n",
       "\t<dt>Sepal.Length</dt>\n",
       "\t\t<dd>5.006</dd>\n",
       "\t<dt>Sepal.Width</dt>\n",
       "\t\t<dd>3.428</dd>\n",
       "\t<dt>Petal.Length</dt>\n",
       "\t\t<dd>1.462</dd>\n",
       "\t<dt>Petal.Width</dt>\n",
       "\t\t<dd>0.246</dd>\n",
       "</dl>\n"
      ],
      "text/latex": [
       "\\begin{description*}\n",
       "\\item[Sepal.Length] 5.006\n",
       "\\item[Sepal.Width] 3.428\n",
       "\\item[Petal.Length] 1.462\n",
       "\\item[Petal.Width] 0.246\n",
       "\\end{description*}\n"
      ],
      "text/markdown": [
       "Sepal.Length\n",
       ":   5.006Sepal.Width\n",
       ":   3.428Petal.Length\n",
       ":   1.462Petal.Width\n",
       ":   0.246\n",
       "\n"
      ],
      "text/plain": [
       "Sepal.Length  Sepal.Width Petal.Length  Petal.Width \n",
       "       5.006        3.428        1.462        0.246 "
      ]
     },
     "metadata": {},
     "output_type": "display_data"
    },
    {
     "data": {
      "text/html": [
       "<dl class=dl-horizontal>\n",
       "\t<dt>Sepal.Length</dt>\n",
       "\t\t<dd>5.936</dd>\n",
       "\t<dt>Sepal.Width</dt>\n",
       "\t\t<dd>2.77</dd>\n",
       "\t<dt>Petal.Length</dt>\n",
       "\t\t<dd>4.26</dd>\n",
       "\t<dt>Petal.Width</dt>\n",
       "\t\t<dd>1.326</dd>\n",
       "</dl>\n"
      ],
      "text/latex": [
       "\\begin{description*}\n",
       "\\item[Sepal.Length] 5.936\n",
       "\\item[Sepal.Width] 2.77\n",
       "\\item[Petal.Length] 4.26\n",
       "\\item[Petal.Width] 1.326\n",
       "\\end{description*}\n"
      ],
      "text/markdown": [
       "Sepal.Length\n",
       ":   5.936Sepal.Width\n",
       ":   2.77Petal.Length\n",
       ":   4.26Petal.Width\n",
       ":   1.326\n",
       "\n"
      ],
      "text/plain": [
       "Sepal.Length  Sepal.Width Petal.Length  Petal.Width \n",
       "       5.936        2.770        4.260        1.326 "
      ]
     },
     "metadata": {},
     "output_type": "display_data"
    },
    {
     "data": {
      "text/html": [
       "<dl class=dl-horizontal>\n",
       "\t<dt>Sepal.Length</dt>\n",
       "\t\t<dd>6.588</dd>\n",
       "\t<dt>Sepal.Width</dt>\n",
       "\t\t<dd>2.974</dd>\n",
       "\t<dt>Petal.Length</dt>\n",
       "\t\t<dd>5.552</dd>\n",
       "\t<dt>Petal.Width</dt>\n",
       "\t\t<dd>2.026</dd>\n",
       "</dl>\n"
      ],
      "text/latex": [
       "\\begin{description*}\n",
       "\\item[Sepal.Length] 6.588\n",
       "\\item[Sepal.Width] 2.974\n",
       "\\item[Petal.Length] 5.552\n",
       "\\item[Petal.Width] 2.026\n",
       "\\end{description*}\n"
      ],
      "text/markdown": [
       "Sepal.Length\n",
       ":   6.588Sepal.Width\n",
       ":   2.974Petal.Length\n",
       ":   5.552Petal.Width\n",
       ":   2.026\n",
       "\n"
      ],
      "text/plain": [
       "Sepal.Length  Sepal.Width Petal.Length  Petal.Width \n",
       "       6.588        2.974        5.552        2.026 "
      ]
     },
     "metadata": {},
     "output_type": "display_data"
    }
   ],
   "source": [
    "medias_setosa = colMeans(setosa[,1:4])\n",
    "medias_versicolor = colMeans(versicolor[,1:4])\n",
    "medias_virginica = colMeans(virginica[,1:4])\n",
    "\n",
    "medias_setosa\n",
    "medias_versicolor\n",
    "medias_virginica\n"
   ]
  },
  {
   "cell_type": "markdown",
   "metadata": {},
   "source": [
    "Calculamos $S$ y $S_W$"
   ]
  },
  {
   "cell_type": "code",
   "execution_count": 6,
   "metadata": {},
   "outputs": [
    {
     "data": {
      "text/html": [
       "<table>\n",
       "<thead><tr><th></th><th scope=col>Sepal.Length</th><th scope=col>Sepal.Width</th><th scope=col>Petal.Length</th><th scope=col>Petal.Width</th></tr></thead>\n",
       "<tbody>\n",
       "\t<tr><th scope=row>Sepal.Length</th><td> 0.6856935</td><td>-0.0424340</td><td> 1.2743154</td><td> 0.5162707</td></tr>\n",
       "\t<tr><th scope=row>Sepal.Width</th><td>-0.0424340</td><td> 0.1899794</td><td>-0.3296564</td><td>-0.1216394</td></tr>\n",
       "\t<tr><th scope=row>Petal.Length</th><td> 1.2743154</td><td>-0.3296564</td><td> 3.1162779</td><td> 1.2956094</td></tr>\n",
       "\t<tr><th scope=row>Petal.Width</th><td> 0.5162707</td><td>-0.1216394</td><td> 1.2956094</td><td> 0.5810063</td></tr>\n",
       "</tbody>\n",
       "</table>\n"
      ],
      "text/latex": [
       "\\begin{tabular}{r|llll}\n",
       "  & Sepal.Length & Sepal.Width & Petal.Length & Petal.Width\\\\\n",
       "\\hline\n",
       "\tSepal.Length &  0.6856935 & -0.0424340 &  1.2743154 &  0.5162707\\\\\n",
       "\tSepal.Width & -0.0424340 &  0.1899794 & -0.3296564 & -0.1216394\\\\\n",
       "\tPetal.Length &  1.2743154 & -0.3296564 &  3.1162779 &  1.2956094\\\\\n",
       "\tPetal.Width &  0.5162707 & -0.1216394 &  1.2956094 &  0.5810063\\\\\n",
       "\\end{tabular}\n"
      ],
      "text/markdown": [
       "\n",
       "| <!--/--> | Sepal.Length | Sepal.Width | Petal.Length | Petal.Width |\n",
       "|---|---|---|---|---|\n",
       "| Sepal.Length |  0.6856935 | -0.0424340 |  1.2743154 |  0.5162707 |\n",
       "| Sepal.Width | -0.0424340 |  0.1899794 | -0.3296564 | -0.1216394 |\n",
       "| Petal.Length |  1.2743154 | -0.3296564 |  3.1162779 |  1.2956094 |\n",
       "| Petal.Width |  0.5162707 | -0.1216394 |  1.2956094 |  0.5810063 |\n",
       "\n"
      ],
      "text/plain": [
       "             Sepal.Length Sepal.Width Petal.Length Petal.Width\n",
       "Sepal.Length  0.6856935   -0.0424340   1.2743154    0.5162707 \n",
       "Sepal.Width  -0.0424340    0.1899794  -0.3296564   -0.1216394 \n",
       "Petal.Length  1.2743154   -0.3296564   3.1162779    1.2956094 \n",
       "Petal.Width   0.5162707   -0.1216394   1.2956094    0.5810063 "
      ]
     },
     "metadata": {},
     "output_type": "display_data"
    }
   ],
   "source": [
    "S = cov(iris[,1:4])\n",
    "S"
   ]
  },
  {
   "cell_type": "code",
   "execution_count": 8,
   "metadata": {},
   "outputs": [
    {
     "data": {
      "text/html": [
       "<table>\n",
       "<thead><tr><th></th><th scope=col>Sepal.Length</th><th scope=col>Sepal.Width</th><th scope=col>Petal.Length</th><th scope=col>Petal.Width</th></tr></thead>\n",
       "<tbody>\n",
       "\t<tr><th scope=row>Sepal.Length</th><td>0.25970800</td><td>0.09086667</td><td>0.16416400</td><td>0.03763333</td></tr>\n",
       "\t<tr><th scope=row>Sepal.Width</th><td>0.09086667</td><td>0.11308000</td><td>0.05413867</td><td>0.03205600</td></tr>\n",
       "\t<tr><th scope=row>Petal.Length</th><td>0.16416400</td><td>0.05413867</td><td>0.18148400</td><td>0.04181200</td></tr>\n",
       "\t<tr><th scope=row>Petal.Width</th><td>0.03763333</td><td>0.03205600</td><td>0.04181200</td><td>0.04104400</td></tr>\n",
       "</tbody>\n",
       "</table>\n"
      ],
      "text/latex": [
       "\\begin{tabular}{r|llll}\n",
       "  & Sepal.Length & Sepal.Width & Petal.Length & Petal.Width\\\\\n",
       "\\hline\n",
       "\tSepal.Length & 0.25970800 & 0.09086667 & 0.16416400 & 0.03763333\\\\\n",
       "\tSepal.Width & 0.09086667 & 0.11308000 & 0.05413867 & 0.03205600\\\\\n",
       "\tPetal.Length & 0.16416400 & 0.05413867 & 0.18148400 & 0.04181200\\\\\n",
       "\tPetal.Width & 0.03763333 & 0.03205600 & 0.04181200 & 0.04104400\\\\\n",
       "\\end{tabular}\n"
      ],
      "text/markdown": [
       "\n",
       "| <!--/--> | Sepal.Length | Sepal.Width | Petal.Length | Petal.Width |\n",
       "|---|---|---|---|---|\n",
       "| Sepal.Length | 0.25970800 | 0.09086667 | 0.16416400 | 0.03763333 |\n",
       "| Sepal.Width | 0.09086667 | 0.11308000 | 0.05413867 | 0.03205600 |\n",
       "| Petal.Length | 0.16416400 | 0.05413867 | 0.18148400 | 0.04181200 |\n",
       "| Petal.Width | 0.03763333 | 0.03205600 | 0.04181200 | 0.04104400 |\n",
       "\n"
      ],
      "text/plain": [
       "             Sepal.Length Sepal.Width Petal.Length Petal.Width\n",
       "Sepal.Length 0.25970800   0.09086667  0.16416400   0.03763333 \n",
       "Sepal.Width  0.09086667   0.11308000  0.05413867   0.03205600 \n",
       "Petal.Length 0.16416400   0.05413867  0.18148400   0.04181200 \n",
       "Petal.Width  0.03763333   0.03205600  0.04181200   0.04104400 "
      ]
     },
     "metadata": {},
     "output_type": "display_data"
    }
   ],
   "source": [
    "SW = ((n1-1)*cov(setosa[,1:4]) + (n2-1)*cov(versicolor[,1:4]) + (n3-1)*cov(virginica[,1:4]))/n\n",
    "SW\n",
    "\n"
   ]
  },
  {
   "cell_type": "markdown",
   "metadata": {},
   "source": [
    "$cov(tabla)=\\frac{1}{n-1}\\sum_{j=1}^n(x_{i}-\\overline{x})^2$; entonces $$(n-1)cov(tabla)=\\sum_{j=1}^n(x_{i}-\\overline{x})^2$$"
   ]
  },
  {
   "cell_type": "markdown",
   "metadata": {},
   "source": [
    "Calculamos $\\lambda=n\\log\\left(\\frac{|S|}{|S_W|}\\right)$"
   ]
  },
  {
   "cell_type": "code",
   "execution_count": 9,
   "metadata": {},
   "outputs": [
    {
     "data": {
      "text/html": [
       "567.018853187118"
      ],
      "text/latex": [
       "567.018853187118"
      ],
      "text/markdown": [
       "567.018853187118"
      ],
      "text/plain": [
       "[1] 567.0189"
      ]
     },
     "metadata": {},
     "output_type": "display_data"
    }
   ],
   "source": [
    "lambda = n * log(det(S)/det(SW))\n",
    "lambda"
   ]
  },
  {
   "cell_type": "markdown",
   "metadata": {},
   "source": [
    "Finalmente elegimos el valor de significación $\\alpha$ (recordemos que $NC+\\alpha=1$). En este ejemplo tomemos $\\alpha=0.01$\n",
    "\n"
   ]
  },
  {
   "cell_type": "code",
   "execution_count": 11,
   "metadata": {},
   "outputs": [
    {
     "data": {
      "text/html": [
       "1.64649737269077"
      ],
      "text/latex": [
       "1.64649737269077"
      ],
      "text/markdown": [
       "1.64649737269077"
      ],
      "text/plain": [
       "[1] 1.646497"
      ]
     },
     "metadata": {},
     "output_type": "display_data"
    }
   ],
   "source": [
    "alpha = 0.01\n",
    "\n",
    "umbral = qchisq(alpha,p*(G-1))\n",
    "umbral"
   ]
  },
  {
   "cell_type": "markdown",
   "metadata": {},
   "source": [
    "Como $\\lambda>>\\mbox{umbral}$, rechazamos $H_0$."
   ]
  },
  {
   "cell_type": "markdown",
   "metadata": {},
   "source": [
    "Gráficamente podemos ver las medias deben ser diferentes. Con el contraste vimos analíticamente que esto es cierto."
   ]
  },
  {
   "cell_type": "code",
   "execution_count": 12,
   "metadata": {},
   "outputs": [
    {
     "name": "stderr",
     "output_type": "stream",
     "text": [
      "Warning message:\n",
      "\"package 'ggplot2' was built under R version 3.6.3\""
     ]
    },
    {
     "data": {
      "image/png": "[encoded data removed]",
      "text/plain": [
       "plot without title"
      ]
     },
     "metadata": {},
     "output_type": "display_data"
    }
   ],
   "source": [
    "library(ggplot2)\n",
    "pairs(iris[,1:4],pch=19,col=c(\"blue\",\"green\",\"orange\")[iris[,5]])"
   ]
  },
  {
   "cell_type": "code",
   "execution_count": 14,
   "metadata": {},
   "outputs": [
    {
     "data": {
      "text/html": [
       "<table>\n",
       "<thead><tr><th></th><th scope=col>Sepal.Length</th><th scope=col>Sepal.Width</th><th scope=col>Petal.Length</th><th scope=col>Petal.Width</th></tr></thead>\n",
       "<tbody>\n",
       "\t<tr><th scope=row>Sepal.Length</th><td> 0.6856935</td><td>-0.0424340</td><td> 1.2743154</td><td> 0.5162707</td></tr>\n",
       "\t<tr><th scope=row>Sepal.Width</th><td>-0.0424340</td><td> 0.1899794</td><td>-0.3296564</td><td>-0.1216394</td></tr>\n",
       "\t<tr><th scope=row>Petal.Length</th><td> 1.2743154</td><td>-0.3296564</td><td> 3.1162779</td><td> 1.2956094</td></tr>\n",
       "\t<tr><th scope=row>Petal.Width</th><td> 0.5162707</td><td>-0.1216394</td><td> 1.2956094</td><td> 0.5810063</td></tr>\n",
       "</tbody>\n",
       "</table>\n"
      ],
      "text/latex": [
       "\\begin{tabular}{r|llll}\n",
       "  & Sepal.Length & Sepal.Width & Petal.Length & Petal.Width\\\\\n",
       "\\hline\n",
       "\tSepal.Length &  0.6856935 & -0.0424340 &  1.2743154 &  0.5162707\\\\\n",
       "\tSepal.Width & -0.0424340 &  0.1899794 & -0.3296564 & -0.1216394\\\\\n",
       "\tPetal.Length &  1.2743154 & -0.3296564 &  3.1162779 &  1.2956094\\\\\n",
       "\tPetal.Width &  0.5162707 & -0.1216394 &  1.2956094 &  0.5810063\\\\\n",
       "\\end{tabular}\n"
      ],
      "text/markdown": [
       "\n",
       "| <!--/--> | Sepal.Length | Sepal.Width | Petal.Length | Petal.Width |\n",
       "|---|---|---|---|---|\n",
       "| Sepal.Length |  0.6856935 | -0.0424340 |  1.2743154 |  0.5162707 |\n",
       "| Sepal.Width | -0.0424340 |  0.1899794 | -0.3296564 | -0.1216394 |\n",
       "| Petal.Length |  1.2743154 | -0.3296564 |  3.1162779 |  1.2956094 |\n",
       "| Petal.Width |  0.5162707 | -0.1216394 |  1.2956094 |  0.5810063 |\n",
       "\n"
      ],
      "text/plain": [
       "             Sepal.Length Sepal.Width Petal.Length Petal.Width\n",
       "Sepal.Length  0.6856935   -0.0424340   1.2743154    0.5162707 \n",
       "Sepal.Width  -0.0424340    0.1899794  -0.3296564   -0.1216394 \n",
       "Petal.Length  1.2743154   -0.3296564   3.1162779    1.2956094 \n",
       "Petal.Width   0.5162707   -0.1216394   1.2956094    0.5810063 "
      ]
     },
     "metadata": {},
     "output_type": "display_data"
    }
   ],
   "source": [
    "S = cov(iris[,1:4])\n",
    "S"
   ]
  },
  {
   "cell_type": "code",
   "execution_count": 16,
   "metadata": {},
   "outputs": [
    {
     "data": {
      "text/html": [
       "<dl class=dl-horizontal>\n",
       "\t<dt>Sepal.Length</dt>\n",
       "\t\t<dd>0.685693512304251</dd>\n",
       "\t<dt>Sepal.Width</dt>\n",
       "\t\t<dd>0.189979418344519</dd>\n",
       "\t<dt>Petal.Length</dt>\n",
       "\t\t<dd>3.11627785234899</dd>\n",
       "\t<dt>Petal.Width</dt>\n",
       "\t\t<dd>0.581006263982103</dd>\n",
       "</dl>\n"
      ],
      "text/latex": [
       "\\begin{description*}\n",
       "\\item[Sepal.Length] 0.685693512304251\n",
       "\\item[Sepal.Width] 0.189979418344519\n",
       "\\item[Petal.Length] 3.11627785234899\n",
       "\\item[Petal.Width] 0.581006263982103\n",
       "\\end{description*}\n"
      ],
      "text/markdown": [
       "Sepal.Length\n",
       ":   0.685693512304251Sepal.Width\n",
       ":   0.189979418344519Petal.Length\n",
       ":   3.11627785234899Petal.Width\n",
       ":   0.581006263982103\n",
       "\n"
      ],
      "text/plain": [
       "Sepal.Length  Sepal.Width Petal.Length  Petal.Width \n",
       "   0.6856935    0.1899794    3.1162779    0.5810063 "
      ]
     },
     "metadata": {},
     "output_type": "display_data"
    },
    {
     "data": {
      "text/html": [
       "4.57295704697987"
      ],
      "text/latex": [
       "4.57295704697987"
      ],
      "text/markdown": [
       "4.57295704697987"
      ],
      "text/plain": [
       "[1] 4.572957"
      ]
     },
     "metadata": {},
     "output_type": "display_data"
    }
   ],
   "source": []
  }
 ],
 "metadata": {
  "kernelspec": {
   "display_name": "R",
   "language": "R",
   "name": "ir"
  },
  "language_info": {
   "codemirror_mode": "r",
   "file_extension": ".r",
   "mimetype": "text/x-r-source",
   "name": "R",
   "pygments_lexer": "r",
   "version": "3.6.1"
  }
 },
 "nbformat": 4,
 "nbformat_minor": 4
}
