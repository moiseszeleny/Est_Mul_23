{
 "cells": [
  {
   "cell_type": "markdown",
   "metadata": {},
   "source": [
    "<img src=\"logo.png\">"
   ]
  },
  {
   "cell_type": "code",
   "execution_count": null,
   "metadata": {},
   "outputs": [],
   "source": [
    "library(tidyverse)\n",
    "library(MASS)"
   ]
  },
  {
   "cell_type": "markdown",
   "metadata": {},
   "source": [
    "# Distribuciones esféricas y elípticas\n",
    "\n",
    "## Distribuciones elípticas.\n",
    "\n",
    "Un vector aleatorio $\\boldsymbol{X}$ de $p$ dimensiones sigue una **distribución elíptica** si su función de densidad evaluada en la variable independiente $\\boldsymbol{u}$ (que es un vector de números) depende únicamente de $\\boldsymbol{u}$ a través de \n",
    "\n",
    "$$(\\boldsymbol{u}-\\boldsymbol{\\mu})^TV^{-1}(\\boldsymbol{u}-\\boldsymbol{\\mu})$$\n",
    "\n",
    "donde $\\boldsymbol{\\mu}$ es un vector de dimensión $p$ y $V$ es una matriz invertible.\n",
    "\n",
    "Las curvas de nivel o nubes de puntos de este tipo de vectores aleatorios son elipsoides centrados en $\\boldsymbol{m}$. Los vectores gaussianos multivariantes son parte de esta familia. \n",
    "\n",
    "Además, su distribución es invariante por rotaciones. Es decir, que si $\\boldsymbol{X}$ es una distribución elíptica y $C$ es una matriz ortogonal, entonces $C\\boldsymbol{X}$ vuelve a ser un vector aleatorio elíptico.\n",
    "\n",
    "Otra propiedad importantes es que las marginales de distribuciones elípticas vuelven a ser elípticas."
   ]
  },
  {
   "cell_type": "markdown",
   "metadata": {},
   "source": [
    "## Distribuciones esféricas.\n",
    "\n",
    "Un vector aleatorio $\\boldsymbol{X}$ de $p$ dimensiones sigue una **distribución esférica** si su función de densidad evaluada en la variable independiente $\\boldsymbol{u}$ (que es un vector de números) depende únicamente de $\\boldsymbol{u}$ a través de \n",
    "\n",
    "$$\\boldsymbol{u}^T\\boldsymbol{u}.$$\n",
    "\n",
    "Las curvas de nivel o nubes de puntos de este tipo de vectores aleatorios son esferas centradas en $\\boldsymbol{0}$. Los vectores gaussianos multivariantes estándar son parte de esta familia. \n",
    "\n",
    "Además, su distribución es totalmente invariante por rotaciones. Es decir, que si $\\boldsymbol{X}$ es una distribución esférica y $C$ es una matriz ortogonal, entonces $C\\boldsymbol{X}$ vuelve a ser un vector aleatorio esférico con la misma media y varianza que $\\boldsymbol{X}$.\n",
    "\n",
    "Otra propiedad importantes es que las marginales de distribuciones esf+éricas vuelven a ser esféricas."
   ]
  },
  {
   "cell_type": "markdown",
   "metadata": {},
   "source": [
    "**Importante**\n",
    "\n",
    "Las gaussianas son los únicos miembros de las familias elípticas para las cuales si la matriz de covarianzas es diagonal, todas las componentes son independientes."
   ]
  },
  {
   "cell_type": "code",
   "execution_count": null,
   "metadata": {},
   "outputs": [],
   "source": [
    "angulo = pi/2  #runif(1,0,2*pi)\n",
    "rotacion = matrix(c(cos(angulo),-sin(angulo),sin(angulo),cos(angulo)),ncol=2,byrow=TRUE)"
   ]
  },
  {
   "cell_type": "code",
   "execution_count": null,
   "metadata": {},
   "outputs": [],
   "source": [
    "set.seed(2023)\n",
    "m=20\n",
    "\n",
    "Z = mvrnorm(100000, mu = c(0, 5), Sigma = matrix(c(1, 0, 0, 1), 2))\n",
    "X = rchisq(100000,df=m)"
   ]
  },
  {
   "cell_type": "code",
   "execution_count": null,
   "metadata": {},
   "outputs": [],
   "source": [
    "mi_T = Z*sqrt(m/X)\n",
    "mi_T_rotada = t(rotacion %*% t(mi_T))\n",
    "\n",
    "mi_T = data.frame(mi_T) %>% mutate(tipo=\"T original\")\n",
    "colnames(mi_T)[1:2] = c(\"abscisas\",\"ordenadas\")\n",
    "\n",
    "mi_T_rotada = data.frame(mi_T_rotada) %>% mutate(tipo=\"T rotada\")\n",
    "colnames(mi_T_rotada)[1:2] = c(\"abscisas\",\"ordenadas\")\n",
    "\n",
    "datos_T = rbind(mi_T,mi_T_rotada)"
   ]
  },
  {
   "cell_type": "code",
   "execution_count": null,
   "metadata": {},
   "outputs": [],
   "source": [
    "m <- ggplot(data=datos_T) +\n",
    "      stat_density_2d(mapping=aes(x=abscisas,\n",
    "                                  y=ordenadas,\n",
    "                                  fill=..level..,\n",
    "                                 group=tipo,\n",
    "                                 color=tipo),\n",
    "                      geom=\"polygon\",\n",
    "                      show.legend = FALSE) +\n",
    "      #ylim(2,8) +\n",
    "      theme(panel.background = element_rect(\"white\"),\n",
    "            panel.grid = element_line(color=\"darkgrey\",size=0.1))\n",
    "  \n",
    "m  "
   ]
  },
  {
   "cell_type": "code",
   "execution_count": null,
   "metadata": {},
   "outputs": [],
   "source": [
    "m2 <- ggplot(data=datos_T) +\n",
    "      geom_point(mapping=aes(x=abscisas,\n",
    "                             y=ordenadas,\n",
    "                             group=tipo,\n",
    "                             color=tipo),\n",
    "                             show.legend = TRUE) +\n",
    "      #ylim(2,8) +\n",
    "      theme(panel.background = element_rect(\"white\"),\n",
    "            panel.grid = element_line(color=\"darkgrey\",size=0.1))\n",
    "  \n",
    "m2 "
   ]
  },
  {
   "cell_type": "code",
   "execution_count": null,
   "metadata": {},
   "outputs": [],
   "source": [
    "mi_gauss = Z\n",
    "mi_gauss_rotada = t(rotacion %*% t(mi_gauss))\n",
    "\n",
    "mi_gauss = data.frame(mi_gauss) %>% mutate(tipo=\"Z original\")\n",
    "colnames(mi_gauss)[1:2] = c(\"abscisas\",\"ordenadas\")\n",
    "\n",
    "mi_gauss_rotada = data.frame(mi_gauss_rotada) %>% mutate(tipo=\"Z rotada\")\n",
    "colnames(mi_gauss_rotada)[1:2] = c(\"abscisas\",\"ordenadas\")\n",
    "\n",
    "datos_gauss = rbind(mi_gauss,mi_gauss_rotada)"
   ]
  },
  {
   "cell_type": "code",
   "execution_count": null,
   "metadata": {},
   "outputs": [],
   "source": [
    "ggplot(data=datos_gauss) +\n",
    "    geom_point(mapping=aes(x=abscisas,\n",
    "                           y=ordenadas,\n",
    "                           group=tipo,\n",
    "                           color=tipo),\n",
    "               show.legend = TRUE,\n",
    "               alpha = 0.1) +\n",
    "    theme(panel.background = element_rect(\"white\"),\n",
    "    panel.grid = element_line(color=\"darkgrey\",size=0.1))"
   ]
  }
 ],
 "metadata": {
  "kernelspec": {
   "display_name": "R",
   "language": "R",
   "name": "ir"
  },
  "language_info": {
   "codemirror_mode": "r",
   "file_extension": ".r",
   "mimetype": "text/x-r-source",
   "name": "R",
   "pygments_lexer": "r",
   "version": "3.6.1"
  }
 },
 "nbformat": 4,
 "nbformat_minor": 4
}
